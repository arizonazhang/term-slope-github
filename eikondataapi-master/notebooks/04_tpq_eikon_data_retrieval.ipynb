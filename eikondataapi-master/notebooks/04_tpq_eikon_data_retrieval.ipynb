{
 "cells": [
  {
   "cell_type": "markdown",
   "metadata": {},
   "source": [
    "<img src=\"http://eikon.tpq.io/refinitiv_logo.png\" width=\"28%\" align=\"left\" style=\"vertical-align: top; padding-top: 23px;\">\n",
    "<img src=\"http://hilpisch.com/tpq_logo_long.png\" width=\"36%\" align=\"right\" style=\"vertical-align: top;\">"
   ]
  },
  {
   "cell_type": "markdown",
   "metadata": {},
   "source": [
    "# Eikon Data API"
   ]
  },
  {
   "cell_type": "markdown",
   "metadata": {},
   "source": [
    "**Python Wrapper Package &mdash; Data Retrieval**\n",
    "\n",
    "Dr. Yves J. Hilpisch | The Python Quants GmbH\n",
    "\n",
    "<a href=\"http://tpq.io\" target=\"_blank\">http://tpq.io</a> | <a href=\"http://twitter.com/dyjh\" target=\"_blank\">@dyjh</a> | <a href=\"mailto:training@tpq.io\">training@tpq.io</a>\n",
    "\n",
    "<img src=\"http://hilpisch.com/images/tr_eikon_02.png\" width=350px align=left>"
   ]
  },
  {
   "cell_type": "markdown",
   "metadata": {},
   "source": [
    "## The Agenda"
   ]
  },
  {
   "cell_type": "markdown",
   "metadata": {},
   "source": [
    "This tutorial covers the **basic functions** of the `eikon` Python wrapper package:\n",
    "\n",
    "* `eikon` package\n",
    "* `ek.get_symbology()`\n",
    "* `ek.get_data()`\n",
    "* `ek.get_timeseries()`\n",
    "* `ek.get_news_headlines()`\n",
    "* `ek.get_news_story()`"
   ]
  },
  {
   "cell_type": "markdown",
   "metadata": {},
   "source": [
    "## Installation"
   ]
  },
  {
   "cell_type": "markdown",
   "metadata": {},
   "source": [
    "The **Python wrapper package** for the Thomson Reuters Eikon Data API is called `eikon`.\n",
    "\n",
    "It is **installed** via `pip`:\n",
    "    \n",
    "    pip install eikon\n",
    "    \n",
    "It can also be **upgraded** via `pip`:\n",
    "\n",
    "    pip install eikon --upgrade"
   ]
  },
  {
   "cell_type": "markdown",
   "metadata": {},
   "source": [
    "## Imports and Versions"
   ]
  },
  {
   "cell_type": "markdown",
   "metadata": {},
   "source": [
    "The following imports several **packages** as used in the following."
   ]
  },
  {
   "cell_type": "code",
   "execution_count": 3,
   "metadata": {},
   "outputs": [
    {
     "ename": "NameError",
     "evalue": "name 'cf' is not defined",
     "output_type": "error",
     "traceback": [
      "\u001b[1;31m---------------------------------------------------------------------------\u001b[0m",
      "\u001b[1;31mNameError\u001b[0m                                 Traceback (most recent call last)",
      "\u001b[1;32mC:\\Users\\ARIZON~1\\AppData\\Local\\Temp/ipykernel_13660/3144473032.py\u001b[0m in \u001b[0;36m<module>\u001b[1;34m\u001b[0m\n\u001b[0;32m      2\u001b[0m \u001b[1;31m# import cufflinks as cf  # Cufflinks\u001b[0m\u001b[1;33m\u001b[0m\u001b[1;33m\u001b[0m\u001b[0m\n\u001b[0;32m      3\u001b[0m \u001b[1;32mimport\u001b[0m \u001b[0mconfigparser\u001b[0m \u001b[1;32mas\u001b[0m \u001b[0mcp\u001b[0m\u001b[1;33m\u001b[0m\u001b[1;33m\u001b[0m\u001b[0m\n\u001b[1;32m----> 4\u001b[1;33m \u001b[0mcf\u001b[0m\u001b[1;33m.\u001b[0m\u001b[0mset_config_file\u001b[0m\u001b[1;33m(\u001b[0m\u001b[0moffline\u001b[0m\u001b[1;33m=\u001b[0m\u001b[1;32mTrue\u001b[0m\u001b[1;33m)\u001b[0m  \u001b[1;31m# set the plotting mode to offline\u001b[0m\u001b[1;33m\u001b[0m\u001b[1;33m\u001b[0m\u001b[0m\n\u001b[0m",
      "\u001b[1;31mNameError\u001b[0m: name 'cf' is not defined"
     ]
    }
   ],
   "source": [
    "import eikon as ek  # the Eikon Python wrapper package\n",
    "# import cufflinks as cf  # Cufflinks\n",
    "import configparser as cp\n",
    "cf.set_config_file(offline=True)  # set the plotting mode to offline"
   ]
  },
  {
   "cell_type": "markdown",
   "metadata": {},
   "source": [
    "The following **Python and package versions** are used."
   ]
  },
  {
   "cell_type": "code",
   "execution_count": null,
   "metadata": {},
   "outputs": [],
   "source": [
    "import sys\n",
    "print(sys.version)"
   ]
  },
  {
   "cell_type": "code",
   "execution_count": null,
   "metadata": {},
   "outputs": [],
   "source": [
    "ek.__version__"
   ]
  },
  {
   "cell_type": "code",
   "execution_count": null,
   "metadata": {},
   "outputs": [],
   "source": [
    "cf.__version__"
   ]
  },
  {
   "cell_type": "markdown",
   "metadata": {},
   "source": [
    "## Connecting to Eikon Data API"
   ]
  },
  {
   "cell_type": "markdown",
   "metadata": {},
   "source": [
    "This code sets the `app_id` to connect to the **Eikon Data API Proxy** which needs to be running locally. It requires the previously created text file `eikon.cfg` to be in the current working directory."
   ]
  },
  {
   "cell_type": "code",
   "execution_count": null,
   "metadata": {},
   "outputs": [],
   "source": [
    "cfg = cp.ConfigParser()\n",
    "cfg.read('eikon.cfg')  # adjust for different file location"
   ]
  },
  {
   "cell_type": "code",
   "execution_count": null,
   "metadata": {},
   "outputs": [],
   "source": [
    "ek.set_app_key(cfg['eikon']['app_id']) #set_app_id function being deprecated"
   ]
  },
  {
   "cell_type": "markdown",
   "metadata": {},
   "source": [
    "## Functions"
   ]
  },
  {
   "cell_type": "markdown",
   "metadata": {},
   "source": [
    "The Python function `help()` can be used to look up the **help texts** for all elements of the Python wrapper package."
   ]
  },
  {
   "cell_type": "code",
   "execution_count": null,
   "metadata": {},
   "outputs": [],
   "source": [
    "help(ek)"
   ]
  },
  {
   "cell_type": "markdown",
   "metadata": {},
   "source": [
    "In addition, from within Jupyter Notebook, for example, you can use **tab completion** to look up available functionality:"
   ]
  },
  {
   "cell_type": "code",
   "execution_count": null,
   "metadata": {},
   "outputs": [],
   "source": [
    "# ek.  # uncomment & place cursor behind dot, then press the tab key"
   ]
  },
  {
   "cell_type": "markdown",
   "metadata": {},
   "source": [
    "What you see should look similar to this screenshot:\n",
    "\n",
    "<img src=\"eikon_tab_completion.png\" width=\"45%\" align=\"left\">"
   ]
  },
  {
   "cell_type": "markdown",
   "metadata": {},
   "source": [
    "The `eikon` package provides the following **basic functions** to interact with the Eikon Data API and to retrieve data of different types:\n",
    "\n",
    "* `ek.get_symbology()`: converting symbology types\n",
    "* `ek.get_data()`: retrieve historical data\n",
    "* `ek.get_timeseries()`: retrieve historical time series data\n",
    "* `ek.get_news_headlines()`: retrieve news headlines\n",
    "* `ek.get_news_story()`: retrieve full news texts"
   ]
  },
  {
   "cell_type": "markdown",
   "metadata": {},
   "source": [
    "## `ek.get_symbology()`"
   ]
  },
  {
   "cell_type": "markdown",
   "metadata": {},
   "source": [
    "The function `ek.get_symbology()` allows you to **convert symbols** from one symbology type to another."
   ]
  },
  {
   "cell_type": "code",
   "execution_count": 1,
   "metadata": {},
   "outputs": [
    {
     "ename": "NameError",
     "evalue": "name 'ek' is not defined",
     "output_type": "error",
     "traceback": [
      "\u001b[1;31m---------------------------------------------------------------------------\u001b[0m",
      "\u001b[1;31mNameError\u001b[0m                                 Traceback (most recent call last)",
      "\u001b[1;32mC:\\Users\\ARIZON~1\\AppData\\Local\\Temp/ipykernel_13660/1611975546.py\u001b[0m in \u001b[0;36m<module>\u001b[1;34m\u001b[0m\n\u001b[1;32m----> 1\u001b[1;33m \u001b[0mhelp\u001b[0m\u001b[1;33m(\u001b[0m\u001b[0mek\u001b[0m\u001b[1;33m.\u001b[0m\u001b[0mget_symbology\u001b[0m\u001b[1;33m)\u001b[0m\u001b[1;33m\u001b[0m\u001b[1;33m\u001b[0m\u001b[0m\n\u001b[0m",
      "\u001b[1;31mNameError\u001b[0m: name 'ek' is not defined"
     ]
    }
   ],
   "source": [
    "help(ek.get_symbology)"
   ]
  },
  {
   "cell_type": "markdown",
   "metadata": {},
   "source": [
    "Assume the following set of `RICs`."
   ]
  },
  {
   "cell_type": "code",
   "execution_count": 7,
   "metadata": {},
   "outputs": [],
   "source": [
    "rics = [\n",
    "    'AAPL.O',  # Apple stock\n",
    "    'AMZN.O',  # Amazon stock\n",
    "    'TSLA.O',  # Tesla stock\n",
    "    '.SPX',  # S&P 500 stock index\n",
    "]"
   ]
  },
  {
   "cell_type": "markdown",
   "metadata": {},
   "source": [
    "The **conversion** works as follows:"
   ]
  },
  {
   "cell_type": "code",
   "execution_count": 8,
   "metadata": {},
   "outputs": [
    {
     "name": "stderr",
     "output_type": "stream",
     "text": [
      "HTTP request failed: 'NoneType' object has no attribute 'http_request'\n"
     ]
    },
    {
     "ename": "TypeError",
     "evalue": "'NoneType' object is not subscriptable",
     "output_type": "error",
     "traceback": [
      "\u001b[1;31m---------------------------------------------------------------------------\u001b[0m",
      "\u001b[1;31mTypeError\u001b[0m                                 Traceback (most recent call last)",
      "\u001b[1;32mC:\\Users\\ARIZON~1\\AppData\\Local\\Temp/ipykernel_13660/3945460232.py\u001b[0m in \u001b[0;36m<module>\u001b[1;34m\u001b[0m\n\u001b[1;32m----> 1\u001b[1;33m \u001b[0misin\u001b[0m \u001b[1;33m=\u001b[0m \u001b[0mek\u001b[0m\u001b[1;33m.\u001b[0m\u001b[0mget_symbology\u001b[0m\u001b[1;33m(\u001b[0m\u001b[0mrics\u001b[0m\u001b[1;33m,\u001b[0m \u001b[0mfrom_symbol_type\u001b[0m\u001b[1;33m=\u001b[0m\u001b[1;34m'RIC'\u001b[0m\u001b[1;33m,\u001b[0m \u001b[0mto_symbol_type\u001b[0m\u001b[1;33m=\u001b[0m\u001b[1;34m'ISIN'\u001b[0m\u001b[1;33m)\u001b[0m\u001b[1;33m\u001b[0m\u001b[1;33m\u001b[0m\u001b[0m\n\u001b[0m",
      "\u001b[1;32m~\\Anaconda3\\lib\\site-packages\\eikon\\symbology.py\u001b[0m in \u001b[0;36mget_symbology\u001b[1;34m(symbol, from_symbol_type, to_symbol_type, raw_output, debug, best_match)\u001b[0m\n\u001b[0;32m    121\u001b[0m     \u001b[1;32melse\u001b[0m\u001b[1;33m:\u001b[0m\u001b[1;33m\u001b[0m\u001b[1;33m\u001b[0m\u001b[0m\n\u001b[0;32m    122\u001b[0m         \u001b[1;32mif\u001b[0m \u001b[0mbest_match\u001b[0m\u001b[1;33m:\u001b[0m\u001b[1;33m\u001b[0m\u001b[1;33m\u001b[0m\u001b[0m\n\u001b[1;32m--> 123\u001b[1;33m             \u001b[0mresults_dict\u001b[0m \u001b[1;33m=\u001b[0m \u001b[0mdict\u001b[0m\u001b[1;33m(\u001b[0m\u001b[1;33m[\u001b[0m\u001b[1;33m(\u001b[0m\u001b[0m_\u001b[0m\u001b[1;33m[\u001b[0m\u001b[1;34m'symbol'\u001b[0m\u001b[1;33m]\u001b[0m\u001b[1;33m,\u001b[0m \u001b[0m_\u001b[0m\u001b[1;33m[\u001b[0m\u001b[1;34m'bestMatch'\u001b[0m\u001b[1;33m]\u001b[0m\u001b[1;33m)\u001b[0m \u001b[1;32mfor\u001b[0m \u001b[0m_\u001b[0m \u001b[1;32min\u001b[0m \u001b[0mresult\u001b[0m\u001b[1;33m[\u001b[0m\u001b[1;34m'mappedSymbols'\u001b[0m\u001b[1;33m]\u001b[0m\u001b[1;33m]\u001b[0m\u001b[1;33m)\u001b[0m\u001b[1;33m\u001b[0m\u001b[1;33m\u001b[0m\u001b[0m\n\u001b[0m\u001b[0;32m    124\u001b[0m         \u001b[1;32melse\u001b[0m\u001b[1;33m:\u001b[0m\u001b[1;33m\u001b[0m\u001b[1;33m\u001b[0m\u001b[0m\n\u001b[0;32m    125\u001b[0m             \u001b[0mresults_dict\u001b[0m \u001b[1;33m=\u001b[0m \u001b[0mdict\u001b[0m\u001b[1;33m(\u001b[0m\u001b[1;33m[\u001b[0m\u001b[1;33m(\u001b[0m\u001b[0m_\u001b[0m\u001b[1;33m[\u001b[0m\u001b[1;34m'symbol'\u001b[0m\u001b[1;33m]\u001b[0m\u001b[1;33m,\u001b[0m \u001b[0m_\u001b[0m\u001b[1;33m)\u001b[0m \u001b[1;32mfor\u001b[0m \u001b[0m_\u001b[0m \u001b[1;32min\u001b[0m \u001b[0mresult\u001b[0m\u001b[1;33m[\u001b[0m\u001b[1;34m'mappedSymbols'\u001b[0m\u001b[1;33m]\u001b[0m\u001b[1;33m]\u001b[0m\u001b[1;33m)\u001b[0m\u001b[1;33m\u001b[0m\u001b[1;33m\u001b[0m\u001b[0m\n",
      "\u001b[1;31mTypeError\u001b[0m: 'NoneType' object is not subscriptable"
     ]
    }
   ],
   "source": [
    "isin = ek.get_symbology(rics, from_symbol_type='RIC', to_symbol_type='ISIN')"
   ]
  },
  {
   "cell_type": "code",
   "execution_count": null,
   "metadata": {},
   "outputs": [],
   "source": [
    "isin"
   ]
  },
  {
   "cell_type": "markdown",
   "metadata": {},
   "source": [
    "And also the other way round, after a conversion of data structures:"
   ]
  },
  {
   "cell_type": "code",
   "execution_count": null,
   "metadata": {},
   "outputs": [],
   "source": [
    "isins = list(isin['ISIN'].values)"
   ]
  },
  {
   "cell_type": "code",
   "execution_count": null,
   "metadata": {},
   "outputs": [],
   "source": [
    "isins"
   ]
  },
  {
   "cell_type": "code",
   "execution_count": null,
   "metadata": {},
   "outputs": [],
   "source": [
    "ek.get_symbology(isins, from_symbol_type='ISIN', to_symbol_type='RIC')"
   ]
  },
  {
   "cell_type": "markdown",
   "metadata": {},
   "source": [
    "## `ek.get_data()`"
   ]
  },
  {
   "cell_type": "markdown",
   "metadata": {},
   "source": [
    "The function `ek.get_data()` is a **general purpose data retrieval** function."
   ]
  },
  {
   "cell_type": "code",
   "execution_count": 4,
   "metadata": {},
   "outputs": [
    {
     "name": "stdout",
     "output_type": "stream",
     "text": [
      "Help on function get_data in module eikon.data_grid:\n",
      "\n",
      "get_data(instruments, fields, parameters=None, field_name=False, raw_output=False, debug=False)\n",
      "    Returns a pandas.DataFrame with fields in columns and instruments as row index\n",
      "    \n",
      "    Parameters\n",
      "    ----------\n",
      "    instruments: string or list\n",
      "        Single instrument or list of instruments to request.\n",
      "    \n",
      "    fields: string, dictionary or list of strings and/or dictionaries.\n",
      "        List of fields to request.\n",
      "    \n",
      "        Examples:\n",
      "    \n",
      "        - 'TR.PriceClose'\n",
      "        - {'TR.GrossProfit': { 'params':{ 'Scale': 6, 'Curn': 'EUR' }}\n",
      "        - {'TR.GrossProfit': { 'params':{ 'Scale': 6, 'Curn': 'EUR' },sort_dir:'desc'}\n",
      "        - ['TR.PriceClose','TR.PriceOpen']\n",
      "        - [{'TR.PriceClose':  {'sort_dir':asc,sort_priority:1}},{'TR.PriceOpen':  {'sort_dir':asc,sort_priority:0}}\n",
      "        \n",
      "        You can use the function TR_Field to build the fields:\n",
      "    \n",
      "        >>> fields = [ek.TR_Field('tr.revenue'),ek.TR_Field('tr.open','asc',1),ek.TR_Field('TR.GrossProfit',{'Scale': 6, 'Curn': 'EUR'},'asc',0)]\n",
      "        >>> data, err = ek.get_data([\"IBM\",\"MSFT.O\"],fields)\n",
      "       \n",
      "        Tips:\n",
      "        You can launch the Data Item Browser to discover fields and parameters,\n",
      "        or copy field names and parameters from TR Eikon - MS Office formulas\n",
      "    \n",
      "    parameters: string or dictionary, optional\n",
      "        Single global parameter key=value or dictionary of global parameters to request.\n",
      "    \n",
      "        Default: None\n",
      "    \n",
      "    field_name: boolean, optional\n",
      "        Define if column headers are filled with field name or display names.\n",
      "    \n",
      "        If True value, field names will ube used as column headers. Otherwise, the full display name will be used.\n",
      "    \n",
      "        Default: False\n",
      "    \n",
      "    raw_output: boolean, optional\n",
      "        By default the output is a pandas.DataFrame.\n",
      "    \n",
      "        Set raw_output=True to get data in Json format.\n",
      "    \n",
      "        Default: False\n",
      "    \n",
      "    debug: boolean, optional\n",
      "        When set to True, the json request and response are printed. Default value is False\n",
      "    \n",
      "    Returns\n",
      "    -------\n",
      "        pandas.DataFrame\n",
      "            Returns pandas.DataFrame with fields in columns and instruments as row index\n",
      "    \n",
      "        errors\n",
      "            Returns a list of errors\n",
      "    \n",
      "    Raises\n",
      "    ----------\n",
      "        Exception\n",
      "            If http request fails or if server returns an error.\n",
      "    \n",
      "        ValueError\n",
      "            If a parameter type or value is wrong.\n",
      "    \n",
      "    Examples\n",
      "    --------\n",
      "    >>> import eikon as ek\n",
      "    >>> ek.set_app_key('set your app key here')\n",
      "    >>> data, err = ek.get_data([\"IBM\", \"GOOG.O\", \"MSFT.O\"], [\"TR.PriceClose\", \"TR.Volume\", \"TR.PriceLow\"])\n",
      "    >>> data, err = ek.get_data(\"IBM\", ['TR.Employees', {'TR.GrossProfit':{'params':{'Scale': 6, 'Curn': 'EUR'},'sort_dir':'asc'}}])\n",
      "    >>> fields = [ek.TR_Field('tr.revenue'),ek.TR_Field('tr.open',None,'asc',1),ek.TR_Field('TR.GrossProfit',{'Scale': 6, 'Curn': 'EUR'},'asc',0)]\n",
      "    >>> data, err = ek.get_data([\"IBM\",\"MSFT.O\"],fields)\n",
      "\n"
     ]
    }
   ],
   "source": [
    "help(ek.get_data)"
   ]
  },
  {
   "cell_type": "code",
   "execution_count": 5,
   "metadata": {},
   "outputs": [
    {
     "name": "stderr",
     "output_type": "stream",
     "text": [
      "HTTP request failed: 'NoneType' object has no attribute 'http_request'\n"
     ]
    },
    {
     "ename": "AttributeError",
     "evalue": "'NoneType' object has no attribute 'get'",
     "output_type": "error",
     "traceback": [
      "\u001b[1;31m---------------------------------------------------------------------------\u001b[0m",
      "\u001b[1;31mAttributeError\u001b[0m                            Traceback (most recent call last)",
      "\u001b[1;32mC:\\Users\\ARIZON~1\\AppData\\Local\\Temp/ipykernel_13660/1468470227.py\u001b[0m in \u001b[0;36m<module>\u001b[1;34m\u001b[0m\n\u001b[1;32m----> 1\u001b[1;33m data_grid, err = ek.get_data(['IBM', 'GOOG.O', 'MSFT.O'],\n\u001b[0m\u001b[0;32m      2\u001b[0m                              ['TR.TotalReturnYTD', 'TR.WACCBeta', 'YRHIGH', 'YRLOW'])\n",
      "\u001b[1;32m~\\Anaconda3\\lib\\site-packages\\eikon\\data_grid.py\u001b[0m in \u001b[0;36mget_data\u001b[1;34m(instruments, fields, parameters, field_name, raw_output, debug)\u001b[0m\n\u001b[0;32m    190\u001b[0m     \u001b[0mresult\u001b[0m \u001b[1;33m=\u001b[0m \u001b[0meikon\u001b[0m\u001b[1;33m.\u001b[0m\u001b[0mjson_requests\u001b[0m\u001b[1;33m.\u001b[0m\u001b[0msend_json_request\u001b[0m\u001b[1;33m(\u001b[0m\u001b[0m_endpoint\u001b[0m\u001b[1;33m,\u001b[0m \u001b[0mpayload\u001b[0m\u001b[1;33m,\u001b[0m \u001b[0mdebug\u001b[0m\u001b[1;33m=\u001b[0m\u001b[0mdebug\u001b[0m\u001b[1;33m)\u001b[0m\u001b[1;33m\u001b[0m\u001b[1;33m\u001b[0m\u001b[0m\n\u001b[0;32m    191\u001b[0m \u001b[1;33m\u001b[0m\u001b[0m\n\u001b[1;32m--> 192\u001b[1;33m     \u001b[1;32mif\u001b[0m \u001b[0mresult\u001b[0m\u001b[1;33m.\u001b[0m\u001b[0mget\u001b[0m\u001b[1;33m(\u001b[0m\u001b[1;34m'responses'\u001b[0m\u001b[1;33m)\u001b[0m\u001b[1;33m:\u001b[0m\u001b[1;33m\u001b[0m\u001b[1;33m\u001b[0m\u001b[0m\n\u001b[0m\u001b[0;32m    193\u001b[0m         \u001b[0mresult\u001b[0m \u001b[1;33m=\u001b[0m \u001b[0mresult\u001b[0m\u001b[1;33m[\u001b[0m\u001b[1;34m'responses'\u001b[0m\u001b[1;33m]\u001b[0m\u001b[1;33m[\u001b[0m\u001b[1;36m0\u001b[0m\u001b[1;33m]\u001b[0m\u001b[1;33m\u001b[0m\u001b[1;33m\u001b[0m\u001b[0m\n\u001b[0;32m    194\u001b[0m \u001b[1;33m\u001b[0m\u001b[0m\n",
      "\u001b[1;31mAttributeError\u001b[0m: 'NoneType' object has no attribute 'get'"
     ]
    }
   ],
   "source": [
    "data_grid, err = ek.get_data(['IBM', 'GOOG.O', 'MSFT.O'],\n",
    "                             ['TR.TotalReturnYTD', 'TR.WACCBeta', 'YRHIGH', 'YRLOW'])"
   ]
  },
  {
   "cell_type": "code",
   "execution_count": null,
   "metadata": {},
   "outputs": [],
   "source": [
    "data_grid"
   ]
  },
  {
   "cell_type": "code",
   "execution_count": null,
   "metadata": {},
   "outputs": [],
   "source": [
    "data_grid.set_index('Instrument')[['YTD Total Return', 'Beta']].iplot(\n",
    "                    kind='bar', subplots=True)"
   ]
  },
  {
   "cell_type": "code",
   "execution_count": null,
   "metadata": {},
   "outputs": [],
   "source": [
    "data_grid.set_index('Instrument')[['YRHIGH', 'YRLOW']].iplot(kind='bar')"
   ]
  },
  {
   "cell_type": "markdown",
   "metadata": {},
   "source": [
    "## `ek.get_timeseries()`"
   ]
  },
  {
   "cell_type": "markdown",
   "metadata": {},
   "source": [
    "The function `ek.get_timeseries()` retrieves **time series data**."
   ]
  },
  {
   "cell_type": "code",
   "execution_count": null,
   "metadata": {},
   "outputs": [],
   "source": [
    "help(ek.get_timeseries)"
   ]
  },
  {
   "cell_type": "markdown",
   "metadata": {},
   "source": [
    "For instance, the following code retries **daily closing prices**  for the four `RICs` as defined above."
   ]
  },
  {
   "cell_type": "code",
   "execution_count": null,
   "metadata": {},
   "outputs": [],
   "source": [
    "rics"
   ]
  },
  {
   "cell_type": "code",
   "execution_count": null,
   "metadata": {},
   "outputs": [],
   "source": [
    "data = ek.get_timeseries(rics,\n",
    "                         start_date='2017-01-01',\n",
    "                         end_date='2018-02-23',\n",
    "                         fields='CLOSE',\n",
    "                         interval='daily'\n",
    "                        )"
   ]
  },
  {
   "cell_type": "code",
   "execution_count": null,
   "metadata": {},
   "outputs": [],
   "source": [
    "data.head()"
   ]
  },
  {
   "cell_type": "code",
   "execution_count": null,
   "metadata": {},
   "outputs": [],
   "source": [
    "data.info()"
   ]
  },
  {
   "cell_type": "markdown",
   "metadata": {},
   "source": [
    "Making use of `Cufflinks`, the data is visualized below."
   ]
  },
  {
   "cell_type": "code",
   "execution_count": null,
   "metadata": {},
   "outputs": [],
   "source": [
    "data.normalize().iplot()"
   ]
  },
  {
   "cell_type": "markdown",
   "metadata": {},
   "source": [
    "## `ek.get_news_headlines()`"
   ]
  },
  {
   "cell_type": "markdown",
   "metadata": {},
   "source": [
    "The function `ek.get_news_headlines()` allows you to search for and retrieve **news headlines**, including `storyId` values needed to retrieve the full news text."
   ]
  },
  {
   "cell_type": "code",
   "execution_count": null,
   "metadata": {},
   "outputs": [],
   "source": [
    "help(ek.get_news_headlines)"
   ]
  },
  {
   "cell_type": "markdown",
   "metadata": {},
   "source": [
    "A `query` string might contain `RICs` and other words to be searched for."
   ]
  },
  {
   "cell_type": "code",
   "execution_count": null,
   "metadata": {},
   "outputs": [],
   "source": [
    "rics[2]"
   ]
  },
  {
   "cell_type": "code",
   "execution_count": null,
   "metadata": {},
   "outputs": [],
   "source": [
    "news = ek.get_news_headlines('R:%s PRODUCTION IN ENGLISH' % rics[2],\n",
    "                         date_from='2018-02-01',\n",
    "                         date_to='2018-02-14',\n",
    "                         count=10\n",
    "                        )"
   ]
  },
  {
   "cell_type": "code",
   "execution_count": null,
   "metadata": {},
   "outputs": [],
   "source": [
    "news"
   ]
  },
  {
   "cell_type": "markdown",
   "metadata": {},
   "source": [
    "## `ek.get_news_story()`"
   ]
  },
  {
   "cell_type": "markdown",
   "metadata": {},
   "source": [
    "The function `ek.get_news_story()` retrieves the full text of a **news stroy** given the `storyId` value."
   ]
  },
  {
   "cell_type": "code",
   "execution_count": null,
   "metadata": {},
   "outputs": [],
   "source": [
    "help(ek.get_news_story)"
   ]
  },
  {
   "cell_type": "markdown",
   "metadata": {},
   "source": [
    "The `storyId` values are stored in the respective column of the `news` `DataFrame` object as created above."
   ]
  },
  {
   "cell_type": "code",
   "execution_count": null,
   "metadata": {},
   "outputs": [],
   "source": [
    "news['storyId']"
   ]
  },
  {
   "cell_type": "markdown",
   "metadata": {},
   "source": [
    "To read a news story, **pick out one story via its storyId and display the full text** provided as HTML code."
   ]
  },
  {
   "cell_type": "code",
   "execution_count": null,
   "metadata": {},
   "outputs": [],
   "source": [
    "storyId = news['storyId'][0]"
   ]
  },
  {
   "cell_type": "code",
   "execution_count": null,
   "metadata": {},
   "outputs": [],
   "source": [
    "from IPython.display import HTML"
   ]
  },
  {
   "cell_type": "code",
   "execution_count": null,
   "metadata": {},
   "outputs": [],
   "source": [
    "HTML(ek.get_news_story(storyId))"
   ]
  },
  {
   "cell_type": "markdown",
   "metadata": {},
   "source": [
    "## Conclusions"
   ]
  },
  {
   "cell_type": "markdown",
   "metadata": {},
   "source": [
    "This tutorial covers the following **basic functions** of the `eikon` Python wrapper package for the Eikon Data API:\n",
    "\n",
    "* `eikon` package\n",
    "* `ek.get_symbology()`: converting symbology types\n",
    "* `ek.get_data()`: retrieve historical data\n",
    "* `ek.get_timeseries()`: retrieve historical time series data\n",
    "* `ek.get_news_headlines()`: retrieve news headlines\n",
    "* `ek.get_news_story()`: retrieve full news texts"
   ]
  },
  {
   "cell_type": "markdown",
   "metadata": {},
   "source": [
    "## Eikon Data API Developer Resources"
   ]
  },
  {
   "cell_type": "markdown",
   "metadata": {},
   "source": [
    "* [Overview](https://developers.thomsonreuters.com/eikon-data-apis) \n",
    "* [Quick Start ](https://developers.thomsonreuters.com/eikon-data-apis/quick-start)\n",
    "* [Documentation](https://developers.thomsonreuters.com/eikon-data-apis/docs)\n",
    "* [Downloads](https://developers.thomsonreuters.com/eikon-data-apis/downloads)\n",
    "* [Tutorials](https://developers.thomsonreuters.com/eikon-data-apis/learning)\n",
    "* [Q&A Forums](https://developers.thomsonreuters.com/eikon-data-apis/qa) \n",
    "\n",
    "Data Item Browser Application: Type `DIB` into Eikon Search Bar.\n",
    "\n",
    "* [Article on Chains](https://developers.thomsonreuters.com/article/simple-chain-objects-ema-part-1)"
   ]
  },
  {
   "cell_type": "markdown",
   "metadata": {},
   "source": [
    "<img src=\"http://eikon.tpq.io/refinitiv_logo.png\" width=\"28%\" align=\"left\" style=\"vertical-align: top; padding-top: 23px;\">\n",
    "<img src=\"http://hilpisch.com/tpq_logo_long.png\" width=\"36%\" align=\"right\" style=\"vertical-align: top;\">"
   ]
  }
 ],
 "metadata": {
  "hide_input": false,
  "kernelspec": {
   "display_name": "Python 3 (ipykernel)",
   "language": "python",
   "name": "python3"
  },
  "language_info": {
   "codemirror_mode": {
    "name": "ipython",
    "version": 3
   },
   "file_extension": ".py",
   "mimetype": "text/x-python",
   "name": "python",
   "nbconvert_exporter": "python",
   "pygments_lexer": "ipython3",
   "version": "3.9.7"
  },
  "toc": {
   "base_numbering": 1,
   "nav_menu": {},
   "number_sections": true,
   "sideBar": true,
   "skip_h1_title": false,
   "title_cell": "Table of Contents",
   "title_sidebar": "Contents",
   "toc_cell": false,
   "toc_position": {},
   "toc_section_display": true,
   "toc_window_display": false
  },
  "varInspector": {
   "cols": {
    "lenName": 16,
    "lenType": 16,
    "lenVar": 40
   },
   "kernels_config": {
    "python": {
     "delete_cmd_postfix": "",
     "delete_cmd_prefix": "del ",
     "library": "var_list.py",
     "varRefreshCmd": "print(var_dic_list())"
    },
    "r": {
     "delete_cmd_postfix": ") ",
     "delete_cmd_prefix": "rm(",
     "library": "var_list.r",
     "varRefreshCmd": "cat(var_dic_list()) "
    }
   },
   "types_to_exclude": [
    "module",
    "function",
    "builtin_function_or_method",
    "instance",
    "_Feature"
   ],
   "window_display": false
  }
 },
 "nbformat": 4,
 "nbformat_minor": 2
}
