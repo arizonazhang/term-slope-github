{
 "cells": [
  {
   "cell_type": "code",
   "execution_count": null,
   "id": "ef713167",
   "metadata": {},
   "outputs": [],
   "source": [
    "import numpy as np\n",
    "import pandas as pd\n",
    "\n",
    "import eikon as ek\n",
    "from option import Options\n",
    "from apscheduler.schedulers.blocking import BlockingScheduler"
   ]
  },
  {
   "cell_type": "code",
   "execution_count": null,
   "id": "88ac3dab",
   "metadata": {},
   "outputs": [],
   "source": [
    "def weekly_update():\n",
    "    today = pd.to_datetime(\"today\").normalize()\n",
    "    dayofweek = today.weekday()\n",
    "\n",
    "    # obtain the last friday and monday correspondingly\n",
    "    if 4 < dayofweek <= 6:\n",
    "        # if the program is run on weekends, it would select the friday on the same week\n",
    "        friday = today - np.timedelta64(dayofweek-4, 'D')\n",
    "    else:\n",
    "        # if the program is run on weekdays, it would select the friday on the previous week\n",
    "        friday = today - np.timedelta64(dayofweek+1+2, 'D')\n",
    "    monday = friday - np.timedelta64(4, 'D')\n",
    "\n",
    "    # prepare data\n",
    "    op = Options(start_date=str(monday)[:10], end_date=str(friday)[:10])\n",
    "    op.get_tickers() # get option tickers\n",
    "    op.add_delivery() # get option delivery date\n",
    "    op.add_risk_free() # get risk free rate\n",
    "    op.add_option_price() # get option price\n",
    "    op.get_dividend() # compute dividend yield\n",
    "    op.get_iv() # compute implied vol\n",
    "    op.print_data()\n",
    "    op.print_counter()\n",
    "\n",
    "    # save spc data\n",
    "    op.get_spc()\n",
    "    op.save_daily_spc()\n",
    "    op.save_weekly_spc()\n",
    "\n",
    "    # save order book table\n",
    "    op.save_vol_curve()\n",
    "\n",
    "    return op"
   ]
  },
  {
   "cell_type": "code",
   "execution_count": null,
   "id": "3518c513",
   "metadata": {},
   "outputs": [],
   "source": [
    "if __name__ == \"__main__\":\n",
    "    # make sure refinitiv is logged in before running this job\n",
    "    ek.set_app_key('51dd084a4cea45dab6ac09cdbfe75cd83d17caa8')\n",
    "\n",
    "    weekly_update()\n",
    "\n",
    "    # running every friday midnight\n",
    "    scheduler = BlockingScheduler()\n",
    "    try:\n",
    "        print(\"Scheduler starts...\")\n",
    "        scheduler.add_job(weekly_update, \"cron\", day_of_week='fri', hour=1, minute=1, timezone=\"Asia/Shanghai\")\n",
    "        scheduler.start()\n",
    "    except (KeyboardInterrupt, SystemExit):\n",
    "        pass"
   ]
  }
 ],
 "metadata": {
  "hide_input": false,
  "kernelspec": {
   "display_name": "Python 3 (ipykernel)",
   "language": "python",
   "name": "python3"
  },
  "language_info": {
   "codemirror_mode": {
    "name": "ipython",
    "version": 3
   },
   "file_extension": ".py",
   "mimetype": "text/x-python",
   "name": "python",
   "nbconvert_exporter": "python",
   "pygments_lexer": "ipython3",
   "version": "3.9.7"
  },
  "toc": {
   "base_numbering": 1,
   "nav_menu": {},
   "number_sections": true,
   "sideBar": true,
   "skip_h1_title": false,
   "title_cell": "Table of Contents",
   "title_sidebar": "Contents",
   "toc_cell": false,
   "toc_position": {},
   "toc_section_display": true,
   "toc_window_display": false
  },
  "varInspector": {
   "cols": {
    "lenName": 16,
    "lenType": 16,
    "lenVar": 40
   },
   "kernels_config": {
    "python": {
     "delete_cmd_postfix": "",
     "delete_cmd_prefix": "del ",
     "library": "var_list.py",
     "varRefreshCmd": "print(var_dic_list())"
    },
    "r": {
     "delete_cmd_postfix": ") ",
     "delete_cmd_prefix": "rm(",
     "library": "var_list.r",
     "varRefreshCmd": "cat(var_dic_list()) "
    }
   },
   "types_to_exclude": [
    "module",
    "function",
    "builtin_function_or_method",
    "instance",
    "_Feature"
   ],
   "window_display": false
  }
 },
 "nbformat": 4,
 "nbformat_minor": 5
}
