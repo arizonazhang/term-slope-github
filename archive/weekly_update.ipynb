{
 "cells": [
  {
   "cell_type": "code",
   "execution_count": 1,
   "id": "1306f7f2",
   "metadata": {},
   "outputs": [],
   "source": [
    "from main import *"
   ]
  },
  {
   "cell_type": "code",
   "execution_count": 2,
   "id": "73d01586",
   "metadata": {
    "scrolled": true
   },
   "outputs": [],
   "source": [
    "start_dt = \"2022-06-01\"\n",
    "end_dt = \"2022-06-17\"\n",
    "hsi = getData(\"1001098\", start_dt, end_dt)\n",
    "\n",
    "ek.set_app_key('51dd084a4cea45dab6ac09cdbfe75cd83d17caa8')\n",
    "op = options(start_date=start_dt, end_date=end_dt)\n",
    "op.get_tickers()\n",
    "op.add_delivery()\n",
    "op.add_risk_free()\n",
    "op.add_option_price()\n",
    "op.get_dividend()\n"
   ]
  },
  {
   "cell_type": "code",
   "execution_count": 7,
   "id": "fb09c844",
   "metadata": {},
   "outputs": [
    {
     "data": {
      "text/plain": [
       "datetime\n",
       "2022-06-01   -0.008033\n",
       "2022-06-02   -0.004572\n",
       "2022-06-06    0.002707\n",
       "2022-06-07   -0.002920\n",
       "2022-06-08   -0.005379\n",
       "2022-06-09    0.000982\n",
       "2022-06-10   -0.001336\n",
       "2022-06-13   -0.008215\n",
       "2022-06-14   -0.004831\n",
       "2022-06-15    0.000295\n",
       "2022-06-16   -0.004808\n",
       "2022-06-17   -0.002287\n",
       "dtype: float64"
      ]
     },
     "execution_count": 7,
     "metadata": {},
     "output_type": "execute_result"
    }
   ],
   "source": [
    "op.get_iv()\n",
    "op.get_spc()"
   ]
  },
  {
   "cell_type": "code",
   "execution_count": 5,
   "id": "56242b95",
   "metadata": {},
   "outputs": [
    {
     "name": "stdout",
     "output_type": "stream",
     "text": [
      "API download counts:\n",
      "No. of requests made: 49\n",
      "No. of data points downloaded: 912\n"
     ]
    }
   ],
   "source": [
    "\n",
    "op.print_counter()"
   ]
  }
 ],
 "metadata": {
  "hide_input": false,
  "kernelspec": {
   "display_name": "Python 3 (ipykernel)",
   "language": "python",
   "name": "python3"
  },
  "language_info": {
   "codemirror_mode": {
    "name": "ipython",
    "version": 3
   },
   "file_extension": ".py",
   "mimetype": "text/x-python",
   "name": "python",
   "nbconvert_exporter": "python",
   "pygments_lexer": "ipython3",
   "version": "3.9.7"
  },
  "toc": {
   "base_numbering": 1,
   "nav_menu": {},
   "number_sections": true,
   "sideBar": true,
   "skip_h1_title": false,
   "title_cell": "Table of Contents",
   "title_sidebar": "Contents",
   "toc_cell": false,
   "toc_position": {},
   "toc_section_display": true,
   "toc_window_display": false
  },
  "varInspector": {
   "cols": {
    "lenName": 16,
    "lenType": 16,
    "lenVar": 40
   },
   "kernels_config": {
    "python": {
     "delete_cmd_postfix": "",
     "delete_cmd_prefix": "del ",
     "library": "var_list.py",
     "varRefreshCmd": "print(var_dic_list())"
    },
    "r": {
     "delete_cmd_postfix": ") ",
     "delete_cmd_prefix": "rm(",
     "library": "var_list.r",
     "varRefreshCmd": "cat(var_dic_list()) "
    }
   },
   "types_to_exclude": [
    "module",
    "function",
    "builtin_function_or_method",
    "instance",
    "_Feature"
   ],
   "window_display": false
  }
 },
 "nbformat": 4,
 "nbformat_minor": 5
}
